{
 "cells": [
  {
   "cell_type": "code",
   "execution_count": 1,
   "metadata": {},
   "outputs": [],
   "source": [
    "# Importing necessary libraries and modules\n",
    "import pandas as pd\n",
    "import matplotlib.pyplot as plt\n",
    "%matplotlib inline\n",
    "\n",
    "# Ignoring deprecation warnings\n",
    "import warnings\n",
    "warnings.filterwarnings(\"ignore\")"
   ]
  },
  {
   "cell_type": "code",
   "execution_count": 2,
   "metadata": {},
   "outputs": [
    {
     "data": {
      "text/html": [
       "<div>\n",
       "<style scoped>\n",
       "    .dataframe tbody tr th:only-of-type {\n",
       "        vertical-align: middle;\n",
       "    }\n",
       "\n",
       "    .dataframe tbody tr th {\n",
       "        vertical-align: top;\n",
       "    }\n",
       "\n",
       "    .dataframe thead th {\n",
       "        text-align: right;\n",
       "    }\n",
       "</style>\n",
       "<table border=\"1\" class=\"dataframe\">\n",
       "  <thead>\n",
       "    <tr style=\"text-align: right;\">\n",
       "      <th></th>\n",
       "      <th>text</th>\n",
       "      <th>category</th>\n",
       "    </tr>\n",
       "  </thead>\n",
       "  <tbody>\n",
       "    <tr>\n",
       "      <th>0</th>\n",
       "      <td>There Were 2 Mass Shootings In Texas Last Week...</td>\n",
       "      <td>CRIME</td>\n",
       "    </tr>\n",
       "    <tr>\n",
       "      <th>1</th>\n",
       "      <td>Will Smith Joins Diplo And Nicky Jam For The 2...</td>\n",
       "      <td>ENTERTAINMENT</td>\n",
       "    </tr>\n",
       "    <tr>\n",
       "      <th>2</th>\n",
       "      <td>Hugh Grant Marries For The First Time At Age 5...</td>\n",
       "      <td>ENTERTAINMENT</td>\n",
       "    </tr>\n",
       "    <tr>\n",
       "      <th>3</th>\n",
       "      <td>Jim Carrey Blasts 'Castrato' Adam Schiff And D...</td>\n",
       "      <td>ENTERTAINMENT</td>\n",
       "    </tr>\n",
       "    <tr>\n",
       "      <th>4</th>\n",
       "      <td>Julianna Margulies Uses Donald Trump Poop Bags...</td>\n",
       "      <td>ENTERTAINMENT</td>\n",
       "    </tr>\n",
       "  </tbody>\n",
       "</table>\n",
       "</div>"
      ],
      "text/plain": [
       "                                                text       category\n",
       "0  There Were 2 Mass Shootings In Texas Last Week...          CRIME\n",
       "1  Will Smith Joins Diplo And Nicky Jam For The 2...  ENTERTAINMENT\n",
       "2  Hugh Grant Marries For The First Time At Age 5...  ENTERTAINMENT\n",
       "3  Jim Carrey Blasts 'Castrato' Adam Schiff And D...  ENTERTAINMENT\n",
       "4  Julianna Margulies Uses Donald Trump Poop Bags...  ENTERTAINMENT"
      ]
     },
     "execution_count": 2,
     "metadata": {},
     "output_type": "execute_result"
    }
   ],
   "source": [
    "# Loading the csv\n",
    "data = pd.read_csv('news_data.csv')\n",
    "data.head()"
   ]
  },
  {
   "cell_type": "code",
   "execution_count": 3,
   "metadata": {},
   "outputs": [
    {
     "data": {
      "text/plain": [
       "POLITICS          32739\n",
       "WELLNESS          17827\n",
       "ENTERTAINMENT     16058\n",
       "TRAVEL             9887\n",
       "STYLE & BEAUTY     9649\n",
       "PARENTING          8677\n",
       "HEALTHY LIVING     6694\n",
       "QUEER VOICES       6314\n",
       "WORLDPOST          6243\n",
       "FOOD & DRINK       6226\n",
       "BUSINESS           5937\n",
       "COMEDY             5175\n",
       "SPORTS             4884\n",
       "BLACK VOICES       4528\n",
       "HOME & LIVING      4195\n",
       "PARENTS            3955\n",
       "WEDDINGS           3651\n",
       "WOMEN              3490\n",
       "IMPACT             3459\n",
       "DIVORCE            3426\n",
       "CRIME              3405\n",
       "MEDIA              2815\n",
       "WEIRD NEWS         2670\n",
       "GREEN              2622\n",
       "RELIGION           2556\n",
       "STYLE              2254\n",
       "SCIENCE            2178\n",
       "WORLD NEWS         2177\n",
       "TASTE              2096\n",
       "TECH               2082\n",
       "MONEY              1707\n",
       "ARTS               1509\n",
       "FIFTY              1401\n",
       "GOOD NEWS          1398\n",
       "ARTS & CULTURE     1339\n",
       "ENVIRONMENT        1323\n",
       "COLLEGE            1144\n",
       "LATINO VOICES      1129\n",
       "CULTURE & ARTS     1030\n",
       "EDUCATION          1004\n",
       "Name: category, dtype: int64"
      ]
     },
     "execution_count": 3,
     "metadata": {},
     "output_type": "execute_result"
    }
   ],
   "source": [
    "# Counting no. of data for each genre\n",
    "data['category'].value_counts()"
   ]
  },
  {
   "cell_type": "code",
   "execution_count": 4,
   "metadata": {},
   "outputs": [
    {
     "data": {
      "text/plain": [
       "TRAVEL & LIFESTYLE         56034\n",
       "NEWS & POLITICS            55726\n",
       "ENTERTAINMENT              16058\n",
       "PARENTING                  12632\n",
       "VOICES AROUND THE WORLD    11971\n",
       "HUMOUR                      7845\n",
       "BUSINESS                    7644\n",
       "MARRIAGE                    7077\n",
       "SPORTS                      4884\n",
       "SCIENCE & TECH              4260\n",
       "HOME & LIVING               4195\n",
       "ENVIRONMENT                 3945\n",
       "ARTS & CULTURE              3878\n",
       "RELIGION                    2556\n",
       "EDUCATION                   2148\n",
       "Name: category, dtype: int64"
      ]
     },
     "execution_count": 4,
     "metadata": {},
     "output_type": "execute_result"
    }
   ],
   "source": [
    "# Data cleanup\n",
    "data['category'] = data['category'].replace({'CULTURE & ARTS' : 'ARTS & CULTURE', 'ARTS' : 'ARTS & CULTURE', \n",
    "                                             'COLLEGE' : 'EDUCATION',\n",
    "                                             'PARENTS' : 'PARENTING',\n",
    "                                             'MONEY' : 'BUSINESS', \n",
    "                                             'STYLE' : 'TRAVEL & LIFESTYLE', 'STYLE & BEAUTY' : 'TRAVEL & LIFESTYLE', 'TASTE' : 'TRAVEL & LIFESTYLE', 'FOOD & DRINK' : 'TRAVEL & LIFESTYLE','FIFTY' : 'TRAVEL & LIFESTYLE', 'TRAVEL' : 'TRAVEL & LIFESTYLE',\n",
    "                                             'DIVORCE' : 'MARRIAGE', 'WEDDINGS' : 'MARRIAGE', \n",
    "                                             'HEALTHY LIVING' : 'TRAVEL & LIFESTYLE', 'WELLNESS' : 'TRAVEL & LIFESTYLE',\n",
    "                                             'GREEN' :  'ENVIRONMENT',\n",
    "                                             'SCIENCE' : 'SCIENCE & TECH', 'TECH' : 'SCIENCE & TECH',  \n",
    "                                             'COMEDY' : 'HUMOUR', 'WEIRD NEWS' : 'HUMOUR',\n",
    "                                             'QUEER VOICES': 'VOICES AROUND THE WORLD', 'BLACK VOICES': 'VOICES AROUND THE WORLD', 'LATINO VOICES': 'VOICES AROUND THE WORLD',\n",
    "                                             'WORLDPOST' : 'NEWS & POLITICS', 'IMPACT' : 'NEWS & POLITICS', 'GOOD NEWS' : 'NEWS & POLITICS', 'POLITICS' : 'NEWS & POLITICS', 'WORLD NEWS' : 'NEWS & POLITICS', 'WOMEN' : 'NEWS & POLITICS', 'CRIME' : 'NEWS & POLITICS', 'MEDIA' : 'NEWS & POLITICS'})\n",
    "data['category'].value_counts()"
   ]
  },
  {
   "cell_type": "code",
   "execution_count": 5,
   "metadata": {},
   "outputs": [
    {
     "data": {
      "text/html": [
       "<div>\n",
       "<style scoped>\n",
       "    .dataframe tbody tr th:only-of-type {\n",
       "        vertical-align: middle;\n",
       "    }\n",
       "\n",
       "    .dataframe tbody tr th {\n",
       "        vertical-align: top;\n",
       "    }\n",
       "\n",
       "    .dataframe thead th {\n",
       "        text-align: right;\n",
       "    }\n",
       "</style>\n",
       "<table border=\"1\" class=\"dataframe\">\n",
       "  <thead>\n",
       "    <tr style=\"text-align: right;\">\n",
       "      <th></th>\n",
       "      <th>text</th>\n",
       "      <th>category</th>\n",
       "      <th>FilterText</th>\n",
       "    </tr>\n",
       "  </thead>\n",
       "  <tbody>\n",
       "    <tr>\n",
       "      <th>0</th>\n",
       "      <td>There Were 2 Mass Shootings In Texas Last Week...</td>\n",
       "      <td>NEWS &amp; POLITICS</td>\n",
       "      <td>mass shootings texas last week tv left husband...</td>\n",
       "    </tr>\n",
       "    <tr>\n",
       "      <th>1</th>\n",
       "      <td>Will Smith Joins Diplo And Nicky Jam For The 2...</td>\n",
       "      <td>ENTERTAINMENT</td>\n",
       "      <td>smith joins diplo nicky jam world cup official...</td>\n",
       "    </tr>\n",
       "    <tr>\n",
       "      <th>2</th>\n",
       "      <td>Hugh Grant Marries For The First Time At Age 5...</td>\n",
       "      <td>ENTERTAINMENT</td>\n",
       "      <td>hugh grant marries first time age actor longti...</td>\n",
       "    </tr>\n",
       "    <tr>\n",
       "      <th>3</th>\n",
       "      <td>Jim Carrey Blasts 'Castrato' Adam Schiff And D...</td>\n",
       "      <td>ENTERTAINMENT</td>\n",
       "      <td>jim carrey blasts castrato adam schiff democra...</td>\n",
       "    </tr>\n",
       "    <tr>\n",
       "      <th>4</th>\n",
       "      <td>Julianna Margulies Uses Donald Trump Poop Bags...</td>\n",
       "      <td>ENTERTAINMENT</td>\n",
       "      <td>julianna margulies uses donald trump poop bags...</td>\n",
       "    </tr>\n",
       "  </tbody>\n",
       "</table>\n",
       "</div>"
      ],
      "text/plain": [
       "                                                text         category  \\\n",
       "0  There Were 2 Mass Shootings In Texas Last Week...  NEWS & POLITICS   \n",
       "1  Will Smith Joins Diplo And Nicky Jam For The 2...    ENTERTAINMENT   \n",
       "2  Hugh Grant Marries For The First Time At Age 5...    ENTERTAINMENT   \n",
       "3  Jim Carrey Blasts 'Castrato' Adam Schiff And D...    ENTERTAINMENT   \n",
       "4  Julianna Margulies Uses Donald Trump Poop Bags...    ENTERTAINMENT   \n",
       "\n",
       "                                          FilterText  \n",
       "0  mass shootings texas last week tv left husband...  \n",
       "1  smith joins diplo nicky jam world cup official...  \n",
       "2  hugh grant marries first time age actor longti...  \n",
       "3  jim carrey blasts castrato adam schiff democra...  \n",
       "4  julianna margulies uses donald trump poop bags...  "
      ]
     },
     "execution_count": 5,
     "metadata": {},
     "output_type": "execute_result"
    }
   ],
   "source": [
    "# Filtering out unncessary information from given text\n",
    "import string\n",
    "from nltk.corpus import stopwords\n",
    "from textblob import Word\n",
    "\n",
    "stop = stopwords.words('english')\n",
    "newStopWord = ['like','yet','one']\n",
    "stop.extend(newStopWord)\n",
    "\n",
    "# Removing punctuations and all digits from text\n",
    "filterString = string.punctuation + '“”|”' + string.digits\n",
    "data['FilterText'] = data['text'].apply(lambda x: x.translate(str.maketrans(filterString,' '*len(filterString),'')))\n",
    "\n",
    "# Removing all single characters\n",
    "data['FilterText'] = data['FilterText'].replace('\\s+[a-zA-Z]\\s+', ' ', regex=True)\n",
    "\n",
    "# Removing single characters in beginning\n",
    "data['FilterText'] = data['FilterText'].replace('\\^[a-zA-Z]\\s+', ' ', regex=True)\n",
    "\n",
    "# Removing multiple spaces\n",
    "data['FilterText'] = data['FilterText'].replace('\\s+', ' ', regex=True)\n",
    "\n",
    "# Converting text to lowercase\n",
    "data['FilterText'] = data['FilterText'].apply(lambda x: x.lower())\n",
    "\n",
    "# Removing stop words from text\n",
    "data['FilterText'] = data['FilterText'].str.split(' ').apply(lambda x: ' '.join(k for k in x if k not in stop))\n",
    "\n",
    "# Lemmatizing all words in the text\n",
    "data['FilterText'] = data['FilterText'].apply(lambda x: \"\".join([Word(word).lemmatize() for word in x]))\n",
    "\n",
    "data.head()"
   ]
  },
  {
   "cell_type": "code",
   "execution_count": 6,
   "metadata": {},
   "outputs": [
    {
     "data": {
      "application/vnd.jupyter.widget-view+json": {
       "model_id": "e6f26bcac8fd4ec6937596a62033cf0c",
       "version_major": 2,
       "version_minor": 0
      },
      "text/plain": [
       "interactive(children=(Dropdown(description='category', options=('ARTS & CULTURE', 'EDUCATION', 'PARENTING', 'B…"
      ]
     },
     "metadata": {},
     "output_type": "display_data"
    }
   ],
   "source": [
    "# Visualizing top words from each category\n",
    "from wordcloud import WordCloud\n",
    "from ipywidgets import interact\n",
    "\n",
    "category_list = ['ARTS & CULTURE', 'EDUCATION', 'PARENTING', 'BUSINESS', 'TRAVEL & LIFESTYLE', 'MARRIAGE', 'ENVIRONMENT', 'SCIENCE & TECH', 'HUMOUR', 'VOICES AROUND THE WORLD', 'NEWS & POLITICS']\n",
    "# Generating wordcloud for visualization of highly recurring words for each category\n",
    "@interact\n",
    "def plot_word_cloud(category=category_list):\n",
    "    \n",
    "    sample_data = data[data['category'] == category]\n",
    "    text = ' '.join(sample_data['FilterText'].tolist())\n",
    "    wordcloud = WordCloud(max_font_size=60, stopwords=stop).generate(text)\n",
    "        \n",
    "    plt.figure(figsize=(12,12))\n",
    "    plt.imshow(wordcloud)\n",
    "    plt.axis(\"off\")\n",
    "    plt.title('WordCloud for {}'.format(category))"
   ]
  },
  {
   "cell_type": "code",
   "execution_count": 7,
   "metadata": {},
   "outputs": [
    {
     "name": "stdout",
     "output_type": "stream",
     "text": [
      "Training:  112979\n",
      "Validation:  37660\n",
      "Testing:  50214\n"
     ]
    }
   ],
   "source": [
    "# Spliting data into test, train and validation set\n",
    "from sklearn.model_selection import train_test_split\n",
    "\n",
    "# Defining X and y for the data\n",
    "X = data['FilterText']\n",
    "y = data['category']\n",
    "\n",
    "text_train, text_test, category_train, category_test = train_test_split(X,y)\n",
    "text_train, text_validate, category_train, category_validate = train_test_split(text_train,category_train)\n",
    "print(\"Training: \",len(text_train))\n",
    "print(\"Validation: \",len(text_validate),)\n",
    "print(\"Testing: \",len(text_test))"
   ]
  },
  {
   "cell_type": "code",
   "execution_count": 8,
   "metadata": {},
   "outputs": [],
   "source": [
    "# Feature extraction while tokenizing\n",
    "from sklearn.feature_extraction.text import CountVectorizer\n",
    "from nltk.tokenize import RegexpTokenizer\n",
    "\n",
    "tokenizer = RegexpTokenizer(r\"\\w+\")\n",
    "stop_words = stop\n",
    "vectorizer = CountVectorizer(tokenizer=tokenizer.tokenize, stop_words=stop_words)\n",
    "\n",
    "vectorizer.fit(iter(text_train))\n",
    "X_train = vectorizer.transform(iter(text_train))\n",
    "X_validate = vectorizer.transform(iter(text_validate))\n",
    "X_test = vectorizer.transform(iter(text_test))"
   ]
  },
  {
   "cell_type": "code",
   "execution_count": 9,
   "metadata": {},
   "outputs": [],
   "source": [
    "# Label encoding the categorical variables\n",
    "from sklearn.preprocessing import LabelEncoder\n",
    "\n",
    "encoder = LabelEncoder()\n",
    "encoder.fit(category_train)\n",
    "Y_train = encoder.transform(category_train)\n",
    "Y_validate = encoder.transform(category_validate)\n",
    "Y_test = encoder.transform(category_test)"
   ]
  },
  {
   "cell_type": "code",
   "execution_count": 10,
   "metadata": {},
   "outputs": [],
   "source": [
    "# Function for reversing a sentence\n",
    "reverse_vocabulary = {}\n",
    "vocabulary = vectorizer.vocabulary_\n",
    "for word in vocabulary:\n",
    "    index = vocabulary[word]\n",
    "    reverse_vocabulary[index] = word"
   ]
  },
  {
   "cell_type": "code",
   "execution_count": 12,
   "metadata": {},
   "outputs": [],
   "source": [
    "## Feature Reduction process can be implemented but gives worse performance\n",
    "\n",
    "import copy\n",
    "# from sklearn.feature_selection import VarianceThreshold\n",
    "\n",
    "# print(\"Number of features before reduction : \", X_train.shape[1])\n",
    "# selection = VarianceThreshold(threshold=0.0001)\n",
    "X_train_whole = copy.deepcopy(X_train)\n",
    "Y_train_whole = copy.deepcopy(Y_train)\n",
    "# selection.fit(X_train)\n",
    "# X_train = selection.transform(X_train)\n",
    "# X_validate = selection.transform(X_validate)\n",
    "# X_test = selection.transform(X_test)\n",
    "# print(\"Number of features after reduction : \", X_train.shape[1])"
   ]
  },
  {
   "cell_type": "code",
   "execution_count": 13,
   "metadata": {},
   "outputs": [
    {
     "name": "stdout",
     "output_type": "stream",
     "text": [
      "                         precision    recall  f1-score   support\n",
      "\n",
      "         ARTS & CULTURE       0.76      0.21      0.33       677\n",
      "               BUSINESS       0.62      0.37      0.46      1460\n",
      "              EDUCATION       0.66      0.06      0.10       368\n",
      "          ENTERTAINMENT       0.61      0.70      0.65      2997\n",
      "            ENVIRONMENT       0.65      0.23      0.34       756\n",
      "          HOME & LIVING       0.88      0.40      0.55       835\n",
      "                 HUMOUR       0.63      0.22      0.33      1442\n",
      "               MARRIAGE       0.85      0.63      0.72      1306\n",
      "        NEWS & POLITICS       0.70      0.85      0.77     10477\n",
      "              PARENTING       0.61      0.66      0.64      2384\n",
      "               RELIGION       0.85      0.13      0.22       497\n",
      "         SCIENCE & TECH       0.81      0.24      0.38       813\n",
      "                 SPORTS       0.85      0.45      0.59       964\n",
      "     TRAVEL & LIFESTYLE       0.68      0.88      0.77     10454\n",
      "VOICES AROUND THE WORLD       0.66      0.42      0.52      2230\n",
      "\n",
      "              micro avg       0.68      0.68      0.68     37660\n",
      "              macro avg       0.72      0.43      0.49     37660\n",
      "           weighted avg       0.69      0.68      0.66     37660\n",
      "\n"
     ]
    }
   ],
   "source": [
    "# Training and fitting the model\n",
    "from sklearn.naive_bayes import MultinomialNB\n",
    "from sklearn.metrics import classification_report\n",
    "\n",
    "nb = MultinomialNB()\n",
    "nb.fit(X_train, Y_train)\n",
    "predMNB = nb.predict(X_validate)\n",
    "print(classification_report(Y_validate, predMNB, target_names=encoder.classes_))"
   ]
  },
  {
   "cell_type": "code",
   "execution_count": 14,
   "metadata": {},
   "outputs": [
    {
     "name": "stdout",
     "output_type": "stream",
     "text": [
      "                         precision    recall  f1-score   support\n",
      "\n",
      "         ARTS & CULTURE       0.76      0.21      0.32       881\n",
      "               BUSINESS       0.65      0.39      0.49      1951\n",
      "              EDUCATION       0.68      0.06      0.10       542\n",
      "          ENTERTAINMENT       0.61      0.70      0.65      4001\n",
      "            ENVIRONMENT       0.59      0.23      0.33       968\n",
      "          HOME & LIVING       0.88      0.41      0.56      1041\n",
      "                 HUMOUR       0.63      0.24      0.35      1979\n",
      "               MARRIAGE       0.86      0.62      0.72      1796\n",
      "        NEWS & POLITICS       0.71      0.85      0.77     13908\n",
      "              PARENTING       0.61      0.64      0.62      3146\n",
      "               RELIGION       0.79      0.11      0.20       637\n",
      "         SCIENCE & TECH       0.76      0.22      0.34      1081\n",
      "                 SPORTS       0.85      0.47      0.60      1247\n",
      "     TRAVEL & LIFESTYLE       0.68      0.88      0.77     14034\n",
      "VOICES AROUND THE WORLD       0.67      0.44      0.53      3002\n",
      "\n",
      "              micro avg       0.69      0.69      0.69     50214\n",
      "              macro avg       0.72      0.43      0.49     50214\n",
      "           weighted avg       0.69      0.69      0.66     50214\n",
      "\n"
     ]
    },
    {
     "data": {
      "text/plain": [
       "<matplotlib.axes._subplots.AxesSubplot at 0x7fa8e7bebda0>"
      ]
     },
     "execution_count": 14,
     "metadata": {},
     "output_type": "execute_result"
    },
    {
     "data": {
      "image/png": "[encoded data removed]",
      "text/plain": [
       "<Figure size 432x288 with 2 Axes>"
      ]
     },
     "metadata": {
      "needs_background": "light"
     },
     "output_type": "display_data"
    }
   ],
   "source": [
    "# Testing model on the test set\n",
    "import seaborn as sns\n",
    "from sklearn.metrics import confusion_matrix\n",
    "\n",
    "pred = nb.predict(X_test)\n",
    "print(classification_report(Y_test, pred, target_names=encoder.classes_))\n",
    "sns.heatmap(confusion_matrix(Y_test, pred))"
   ]
  },
  {
   "cell_type": "markdown",
   "metadata": {},
   "source": [
    "## Why I chose Multinomial Naive Bayes?\n",
    "\n",
    "Among all the models that I tried, Multinomial Naive Bayes and Logistic Regression seemed to perform considerably better than the other models. Although both Multinomial Naive Bayes and Logistic Regression output similar precision value, the recall value in Multinomial Naive Bayes is slightly higher. \n",
    "In order to see why Multinomial Naive Bayes gives better result than the others, I have printed out top 20 words for each category based on their respective weights after getting all the co-efficients of the features in the following cell. It can be easily observed that the top 20 words are very closely related to the category it belongs to. Hence Multinomial Naive Bayes seems to perform well on the given data."
   ]
  },
  {
   "cell_type": "code",
   "execution_count": 15,
   "metadata": {},
   "outputs": [
    {
     "name": "stdout",
     "output_type": "stream",
     "text": [
      "ARTS & CULTURE - ['museum', 'two', 'arts', 'us', 'people', 'years', 'life', 'year', 'book', 'first', 'time', 'women', 'show', 'work', 'artists', 'world', 'photos', 'artist', 'new', 'art'] \n",
      "\n",
      "BUSINESS - ['day', 'could', 'years', 'many', 'world', 'financial', 'wall', 'credit', 'company', 'tax', 'women', 'make', 'work', 'year', 'get', 'money', 'people', 'time', 'new', 'business'] \n",
      "\n",
      "EDUCATION - ['teacher', 'children', 'know', 'sexual', 'colleges', 'many', 'high', 'people', 'teachers', 'campus', 'public', 'time', 'new', 'schools', 'university', 'student', 'school', 'education', 'students', 'college'] \n",
      "\n",
      "ENTERTAINMENT - ['life', 'watch', 'video', 'season', 'people', 'get', 'back', 'best', 'love', 'music', 'time', 'says', 'year', 'movie', 'trump', 'first', 'film', 'show', 'star', 'new'] \n",
      "\n",
      "ENVIRONMENT - ['day', 'last', 'global', 'could', 'video', 'california', 'time', 'oil', 'year', 'energy', 'dog', 'people', 'water', 'photos', 'animal', 'world', 'week', 'new', 'change', 'climate'] \n",
      "\n",
      "HOME & LIVING - ['homes', 'check', 'pinterest', 'room', 'something', 'photo', 'get', 'design', 'diy', 'craft', 'time', 'us', 'ideas', 'new', 'house', 'video', 'make', 'day', 'photos', 'home'] \n",
      "\n",
      "HUMOUR - ['late', 'stephen', 'know', 'bill', 'watch', 'get', 'day', 'night', 'colbert', 'week', 'snl', 'time', 'jimmy', 'man', 'people', 'show', 'new', 'donald', 'video', 'trump'] \n",
      "\n",
      "MARRIAGE - ['make', 'know', 'couple', 'huffpost', 'check', 'keep', 'life', 'new', 'couples', 'photos', 'get', 'time', 'video', 'married', 'weddings', 'love', 'day', 'marriage', 'divorce', 'wedding'] \n",
      "\n",
      "NEWS & POLITICS - ['hillary', 'could', 'day', 'time', 'world', 'would', 'house', 'year', 'state', 'gop', 'obama', 'clinton', 'women', 'says', 'said', 'people', 'president', 'new', 'donald', 'trump'] \n",
      "\n",
      "PARENTING - ['son', 'things', 'school', 'mother', 'family', 'life', 'know', 'parenting', 'old', 'daughter', 'new', 'year', 'day', 'baby', 'time', 'mom', 'child', 'parents', 'children', 'kids'] \n",
      "\n",
      "RELIGION - ['day', 'spiritual', 'jesus', 'meditation', 'time', 'christian', 'life', 'need', 'faith', 'new', 'muslim', 'world', 'religious', 'us', 'daily', 'god', 'francis', 'church', 'people', 'pope'] \n",
      "\n",
      "SCIENCE & TECH - ['first', 'look', 'nasa', 'twitter', 'watch', 'people', 'scientists', 'study', 'world', 'time', 'could', 'science', 'video', 'week', 'google', 'facebook', 'space', 'may', 'apple', 'new'] \n",
      "\n",
      "SPORTS - ['super', 'olympics', 'soccer', 'bowl', 'players', 'time', 'year', 'win', 'sports', 'olympic', 'player', 'nba', 'video', 'first', 'new', 'world', 'football', 'team', 'game', 'nfl'] \n",
      "\n",
      "TRAVEL & LIFESTYLE - ['look', 'way', 'food', 'may', 'know', 'year', 'want', 'love', 'world', 'health', 'get', 'people', 'make', 'day', 'best', 'us', 'time', 'life', 'new', 'photos'] \n",
      "\n",
      "VOICES AROUND THE WORLD - ['men', 'community', 'man', 'lgbtq', 'trans', 'day', 'transgender', 'said', 'first', 'week', 'time', 'love', 'trump', 'queer', 'year', 'lgbt', 'people', 'new', 'black', 'gay'] \n",
      "\n"
     ]
    }
   ],
   "source": [
    "# Top 20 words from each category\n",
    "\n",
    "nb1 = MultinomialNB()\n",
    "nb1.fit(X_train_whole, Y_train_whole)\n",
    "coefs = nb1.coef_\n",
    "target_names = encoder.classes_\n",
    "\n",
    "for i in range(len(target_names)):\n",
    "    words = []\n",
    "    for j in coefs[i].argsort()[-20:]:\n",
    "        words.append(reverse_vocabulary[j])\n",
    "    print (target_names[i], '-', words, \"\\n\")"
   ]
  }
 ],
 "metadata": {
  "kernelspec": {
   "display_name": "Python 3",
   "language": "python",
   "name": "python3"
  },
  "language_info": {
   "codemirror_mode": {
    "name": "ipython",
    "version": 3
   },
   "file_extension": ".py",
   "mimetype": "text/x-python",
   "name": "python",
   "nbconvert_exporter": "python",
   "pygments_lexer": "ipython3",
   "version": "3.6.7"
  }
 },
 "nbformat": 4,
 "nbformat_minor": 2
}
